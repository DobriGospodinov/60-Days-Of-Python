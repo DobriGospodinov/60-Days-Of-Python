{
 "cells": [
  {
   "cell_type": "markdown",
   "id": "96274403-0b9e-4e70-b6b5-a1dc7c1efea8",
   "metadata": {},
   "source": [
    "### Load the book"
   ]
  },
  {
   "cell_type": "code",
   "execution_count": 85,
   "id": "a6ba07a3-6386-4706-9b62-08c88c6bbf52",
   "metadata": {},
   "outputs": [],
   "source": [
    "with open(\"miracle_in_the_andes.txt\", \"r\", encoding=\"utf8\") as file:\n",
    "    book = file.read()"
   ]
  },
  {
   "cell_type": "markdown",
   "id": "c544b426-2fc1-4c1d-9536-9989d72d33f0",
   "metadata": {},
   "source": [
    "### How many chapters are there in the book?"
   ]
  },
  {
   "cell_type": "markdown",
   "id": "241887ed-5cdb-4ee9-a2fa-c25cc76acaae",
   "metadata": {},
   "source": [
    "##### With string method"
   ]
  },
  {
   "cell_type": "code",
   "execution_count": 2,
   "id": "2830dba4-e9a4-4b83-a006-68d4f27f1472",
   "metadata": {},
   "outputs": [
    {
     "data": {
      "text/plain": [
       "11"
      ]
     },
     "execution_count": 2,
     "metadata": {},
     "output_type": "execute_result"
    }
   ],
   "source": [
    "book.count(\"Chapter\") # not accurate, because it catches cases where the word in used in the text, too"
   ]
  },
  {
   "cell_type": "markdown",
   "id": "6fed2415-d227-456e-a2de-4995fe63411d",
   "metadata": {},
   "source": [
    "##### With regex"
   ]
  },
  {
   "cell_type": "code",
   "execution_count": 3,
   "id": "eceae474-2abb-42b0-a72f-707f06979f8b",
   "metadata": {},
   "outputs": [],
   "source": [
    "import re"
   ]
  },
  {
   "cell_type": "code",
   "execution_count": 4,
   "id": "ef033e8f-a5ec-49ac-8460-f24923182bca",
   "metadata": {},
   "outputs": [],
   "source": [
    "pattern = re.compile(\"Chapter [0-9]\")"
   ]
  },
  {
   "cell_type": "code",
   "execution_count": 5,
   "id": "eb84b205-38bc-4cf5-9c25-64eda7057915",
   "metadata": {},
   "outputs": [
    {
     "data": {
      "text/plain": [
       "['Chapter 1',\n",
       " 'Chapter 2',\n",
       " 'Chapter 3',\n",
       " 'Chapter 4',\n",
       " 'Chapter 5',\n",
       " 'Chapter 6',\n",
       " 'Chapter 7',\n",
       " 'Chapter 8',\n",
       " 'Chapter 9',\n",
       " 'Chapter 1']"
      ]
     },
     "execution_count": 5,
     "metadata": {},
     "output_type": "execute_result"
    }
   ],
   "source": [
    "re.findall(pattern, book)"
   ]
  },
  {
   "cell_type": "code",
   "execution_count": 6,
   "id": "8d899d4f-04b0-4d07-b471-4abeef205399",
   "metadata": {},
   "outputs": [],
   "source": [
    "pattern = re.compile(\"Chapter [0-9]+\")"
   ]
  },
  {
   "cell_type": "code",
   "execution_count": 7,
   "id": "44fea7ff-53cc-435f-b62c-7b94fc06d1c3",
   "metadata": {},
   "outputs": [],
   "source": [
    "findings = re.findall(pattern, book)"
   ]
  },
  {
   "cell_type": "code",
   "execution_count": 8,
   "id": "e86566b8-abf5-4d68-ae88-05e3aa8c6697",
   "metadata": {},
   "outputs": [
    {
     "data": {
      "text/plain": [
       "['Chapter 1',\n",
       " 'Chapter 2',\n",
       " 'Chapter 3',\n",
       " 'Chapter 4',\n",
       " 'Chapter 5',\n",
       " 'Chapter 6',\n",
       " 'Chapter 7',\n",
       " 'Chapter 8',\n",
       " 'Chapter 9',\n",
       " 'Chapter 10']"
      ]
     },
     "execution_count": 8,
     "metadata": {},
     "output_type": "execute_result"
    }
   ],
   "source": [
    "findings"
   ]
  },
  {
   "cell_type": "code",
   "execution_count": 9,
   "id": "8ca2eaef-b281-408a-8fe1-6686c1bfd812",
   "metadata": {},
   "outputs": [
    {
     "data": {
      "text/plain": [
       "10"
      ]
     },
     "execution_count": 9,
     "metadata": {},
     "output_type": "execute_result"
    }
   ],
   "source": [
    "len(findings)"
   ]
  },
  {
   "cell_type": "markdown",
   "id": "42c7680a-682d-4308-9a99-fee3b9cdee8c",
   "metadata": {
    "editable": true,
    "slideshow": {
     "slide_type": ""
    },
    "tags": []
   },
   "source": [
    "### Which are the sentences where \"love\" is used?"
   ]
  },
  {
   "cell_type": "code",
   "execution_count": 10,
   "id": "727ebbff-4de6-4d5f-b2e9-79a68ca911d5",
   "metadata": {},
   "outputs": [
    {
     "data": {
      "text/plain": [
       "67"
      ]
     },
     "execution_count": 10,
     "metadata": {},
     "output_type": "execute_result"
    }
   ],
   "source": [
    "# [^.] means everythong except the period sign.\n",
    "# [A-Z]{1} pattern should have exactly one capital letter\n",
    "# * is 0 or more times\n",
    "# + is 1 or more times\n",
    "# {1} is exactly one time\n",
    "pattern = re.compile(\"[A-Z]{1}[^.]*[^a-zA-Z]love[^a-zA-Z][^.]*.\") \n",
    "findings = re.findall(pattern, book)\n",
    "len(findings)"
   ]
  },
  {
   "cell_type": "markdown",
   "id": "5da16eb5-26bd-40ea-a6e7-71ef9688101e",
   "metadata": {},
   "source": [
    "### What are the most used words?"
   ]
  },
  {
   "cell_type": "code",
   "execution_count": 11,
   "id": "8985c691-8677-4e9a-a99b-6e0b7cb7c3c0",
   "metadata": {},
   "outputs": [
    {
     "data": {
      "text/plain": [
       "86798"
      ]
     },
     "execution_count": 11,
     "metadata": {},
     "output_type": "execute_result"
    }
   ],
   "source": [
    "pattern = re.compile(\"[a-zA-Z]+\")\n",
    "findings = re.findall(pattern, book.lower()) # using lower() to avoid counting capitalized strings as different words\n",
    "len(findings)"
   ]
  },
  {
   "cell_type": "code",
   "execution_count": 12,
   "id": "c31ed9d3-8d4a-458d-9efb-2d04d5e9183a",
   "metadata": {},
   "outputs": [],
   "source": [
    "# Below code creates a dict where keys are words, and values represent the count of how many times each word has appeared\n",
    "\n",
    "dictionary = {}\n",
    "for word in findings:\n",
    "    if word in dictionary.keys():\n",
    "        dictionary[word] = dictionary[word] + 1\n",
    "    else:\n",
    "        dictionary[word] = 1"
   ]
  },
  {
   "cell_type": "code",
   "execution_count": 13,
   "id": "2c17fa86-2286-486c-8ca6-8359b8555d91",
   "metadata": {},
   "outputs": [
    {
     "data": {
      "text/plain": [
       "[(5346, 'the'),\n",
       " (2795, 'and'),\n",
       " (2729, 'i'),\n",
       " (2400, 'to'),\n",
       " (2060, 'of'),\n",
       " (1566, 'a'),\n",
       " (1430, 'was'),\n",
       " (1419, 'in'),\n",
       " (1226, 'we'),\n",
       " (1169, 'my')]"
      ]
     },
     "execution_count": 13,
     "metadata": {},
     "output_type": "execute_result"
    }
   ],
   "source": [
    "# Create list with the values in the first position, followed by the keyword\n",
    "\n",
    "dictionary_list = [(value, key) for (key, value) in dictionary.items()]\n",
    "\n",
    "# We sort the list and put the most occurences on top\n",
    "\n",
    "sorted(dictionary_list, reverse=True)[:10] # [:10] shows only first 10 items from the list"
   ]
  },
  {
   "cell_type": "markdown",
   "id": "797664e1-8e4b-4de3-aebd-1de76cc8a7e0",
   "metadata": {},
   "source": [
    "### Extract paragraphs where love is used"
   ]
  },
  {
   "cell_type": "code",
   "execution_count": 28,
   "id": "230aa746-7e7f-4484-95ee-b82900788d1a",
   "metadata": {
    "editable": true,
    "slideshow": {
     "slide_type": ""
    },
    "tags": []
   },
   "outputs": [
    {
     "data": {
      "text/plain": [
       "40"
      ]
     },
     "execution_count": 28,
     "metadata": {},
     "output_type": "execute_result"
    }
   ],
   "source": [
    "# Regex pattern using lookbehind and lookahead:\n",
    "# (?<=\\n\\n)        - Positive lookbehind: Asserts that the match is preceded by two newline characters,\n",
    "#                    indicating the start of a new paragraph.\n",
    "# (.*?\\blove\\b.*?)  - Captures any text that contains the word \"love\" as a whole word, \n",
    "#                    allowing for any characters (including newlines) before and after \"love\".\n",
    "# (?=\\n\\n)         - Positive lookahead: Asserts that the match is followed by two newline characters,\n",
    "#                    indicating the end of a paragraph.\n",
    "pattern = re.compile(r\"(?<=\\n\\n)(.*?\\blove\\b.*?)(?=\\n\\n)\")\n",
    "findings = re.findall(pattern, book)\n",
    "len(findings)\n",
    "#findings"
   ]
  },
  {
   "cell_type": "markdown",
   "id": "5183988b-ebe1-4739-8d8c-25bcb1f57be7",
   "metadata": {},
   "source": [
    "### Extract chapter titles"
   ]
  },
  {
   "cell_type": "code",
   "execution_count": 35,
   "id": "585db351-cb2a-4314-b9e5-e0f093c60cee",
   "metadata": {},
   "outputs": [
    {
     "data": {
      "text/plain": [
       "['Before',\n",
       " 'Everything Precious',\n",
       " 'A Promise',\n",
       " 'Breathe Once More',\n",
       " 'Abandoned',\n",
       " 'Tomb',\n",
       " 'East',\n",
       " 'The Opposite of Death',\n",
       " 'I See a Man',\n",
       " 'After']"
      ]
     },
     "execution_count": 35,
     "metadata": {},
     "output_type": "execute_result"
    }
   ],
   "source": [
    "# The dot (.) matches any single character except newline characters.\n",
    "# The plus sign (+) is a quantifier in regex that indicates one or more occurrences of the preceding element.\n",
    "\n",
    "pattern = re.compile(r\"Chapter [0-9]+\\n\\n(.+)\")\n",
    "findings = re.findall(pattern, book)\n",
    "findings"
   ]
  },
  {
   "cell_type": "markdown",
   "id": "edce633a-b209-4966-af2b-ac571edc3a08",
   "metadata": {
    "editable": true,
    "slideshow": {
     "slide_type": ""
    },
    "tags": []
   },
   "source": [
    "### Function that finds the occurence of any word"
   ]
  },
  {
   "cell_type": "code",
   "execution_count": 49,
   "id": "65a1384b-e258-443a-bb93-87a7b76dc933",
   "metadata": {},
   "outputs": [],
   "source": [
    "def finder(word):\n",
    "    pattern = re.compile(r\"\\b\" + word + r\"\\b\")\n",
    "    findings = re.findall(pattern, book.lower())\n",
    "    if findings:\n",
    "        print (len(findings))\n",
    "    else:\n",
    "        print(f'The book doesn\\'t contain the word \"{word}\"')\n",
    "\n",
    "# looks like we can use an fstring + rstring combo as well:\n",
    "# pattern = re.compile(fr'\\b{word}\\b')"
   ]
  },
  {
   "cell_type": "markdown",
   "id": "1efefee3-60f1-4ec3-bcc5-b914e1d407ac",
   "metadata": {},
   "source": [
    "### Call the function"
   ]
  },
  {
   "cell_type": "code",
   "execution_count": 47,
   "id": "e85e8dac-0f6d-481e-a944-7b74f0c3eb6e",
   "metadata": {},
   "outputs": [
    {
     "name": "stdout",
     "output_type": "stream",
     "text": [
      "83\n"
     ]
    }
   ],
   "source": [
    "finder(\"love\")"
   ]
  },
  {
   "cell_type": "code",
   "execution_count": 48,
   "id": "e2ffc1f3-58ca-482d-b598-70f5634cb18a",
   "metadata": {},
   "outputs": [
    {
     "name": "stdout",
     "output_type": "stream",
     "text": [
      "The book doesn't contain the word \"hate\"\n"
     ]
    }
   ],
   "source": [
    "finder(\"hate\")"
   ]
  },
  {
   "cell_type": "markdown",
   "id": "d59a2571-9ba8-476f-a8e4-6ace54699423",
   "metadata": {},
   "source": [
    "### The most used words (non-articles)"
   ]
  },
  {
   "cell_type": "code",
   "execution_count": 68,
   "id": "d3c72adf-1ba5-4db6-a6c6-de2f2a5a9390",
   "metadata": {},
   "outputs": [],
   "source": [
    "sorted_dlist = sorted(dictionary_list, reverse=True) # defined above, contains articles"
   ]
  },
  {
   "cell_type": "code",
   "execution_count": 55,
   "id": "62640b26-09e6-4ded-91e5-9a5feb9445db",
   "metadata": {},
   "outputs": [
    {
     "name": "stdout",
     "output_type": "stream",
     "text": [
      "Requirement already satisfied: nltk in c:\\users\\dobri\\desktop\\python\\60-days-of-python\\.venv\\lib\\site-packages (3.9.1)\n",
      "Requirement already satisfied: click in c:\\users\\dobri\\desktop\\python\\60-days-of-python\\.venv\\lib\\site-packages (from nltk) (8.1.7)\n",
      "Requirement already satisfied: joblib in c:\\users\\dobri\\desktop\\python\\60-days-of-python\\.venv\\lib\\site-packages (from nltk) (1.4.2)\n",
      "Requirement already satisfied: regex>=2021.8.3 in c:\\users\\dobri\\desktop\\python\\60-days-of-python\\.venv\\lib\\site-packages (from nltk) (2024.9.11)\n",
      "Requirement already satisfied: tqdm in c:\\users\\dobri\\desktop\\python\\60-days-of-python\\.venv\\lib\\site-packages (from nltk) (4.66.5)\n",
      "Requirement already satisfied: colorama in c:\\users\\dobri\\desktop\\python\\60-days-of-python\\.venv\\lib\\site-packages (from click->nltk) (0.4.6)\n"
     ]
    }
   ],
   "source": [
    "!pip3.11 install nltk"
   ]
  },
  {
   "cell_type": "code",
   "execution_count": 62,
   "id": "3635cbac-23ed-4f9a-b87b-48cdfef033e3",
   "metadata": {
    "scrolled": true
   },
   "outputs": [
    {
     "name": "stderr",
     "output_type": "stream",
     "text": [
      "[nltk_data] Downloading package stopwords to\n",
      "[nltk_data]     C:\\Users\\dobri\\AppData\\Roaming\\nltk_data...\n",
      "[nltk_data]   Package stopwords is already up-to-date!\n"
     ]
    }
   ],
   "source": [
    "import nltk\n",
    "nltk.download('stopwords')\n",
    "from nltk.corpus import stopwords\n",
    "english_stopwords = stopwords.words(\"english\")"
   ]
  },
  {
   "cell_type": "code",
   "execution_count": 64,
   "id": "3fbc33a8-ec23-483d-a53b-345b795d9c6c",
   "metadata": {},
   "outputs": [
    {
     "data": {
      "text/plain": [
       "['i', 'me', 'my', 'myself', 'we']"
      ]
     },
     "execution_count": 64,
     "metadata": {},
     "output_type": "execute_result"
    }
   ],
   "source": [
    "english_stopwords[:5]"
   ]
  },
  {
   "cell_type": "code",
   "execution_count": 69,
   "id": "c9725474-6b28-493b-981f-928210d917a1",
   "metadata": {},
   "outputs": [],
   "source": [
    "filtered_words = []\n",
    "for count,word in sorted_dlist:\n",
    "    if word not in english_stopwords:\n",
    "        filtered_words.append((word, count))"
   ]
  },
  {
   "cell_type": "code",
   "execution_count": 71,
   "id": "04f801c5-b29a-4dd2-a106-b680f0b79e42",
   "metadata": {},
   "outputs": [
    {
     "data": {
      "text/plain": [
       "[('would', 575),\n",
       " ('us', 519),\n",
       " ('said', 292),\n",
       " ('roberto', 284),\n",
       " ('could', 252),\n",
       " ('one', 249),\n",
       " ('snow', 227),\n",
       " ('mountain', 183),\n",
       " ('time', 182),\n",
       " ('like', 165)]"
      ]
     },
     "execution_count": 71,
     "metadata": {},
     "output_type": "execute_result"
    }
   ],
   "source": [
    "filtered_words[:10]"
   ]
  },
  {
   "cell_type": "markdown",
   "id": "de2dbbfa-65a8-4127-b793-1a595a1e548b",
   "metadata": {},
   "source": [
    "### Sentiment Analysis: Which is the most positive and the most negative chapter?"
   ]
  },
  {
   "cell_type": "markdown",
   "id": "46d7a3b1-89a7-4c92-8b03-b736bbeaa617",
   "metadata": {},
   "source": [
    "#### An Example:"
   ]
  },
  {
   "cell_type": "code",
   "execution_count": 73,
   "id": "3910d1e0-5e8d-41b1-8eec-c6df8e03a01d",
   "metadata": {},
   "outputs": [],
   "source": [
    "from nltk.sentiment import SentimentIntensityAnalyzer"
   ]
  },
  {
   "cell_type": "code",
   "execution_count": 81,
   "id": "1255f25d-e10d-4557-aff9-90f53bb53739",
   "metadata": {},
   "outputs": [
    {
     "name": "stderr",
     "output_type": "stream",
     "text": [
      "[nltk_data] Downloading package vader_lexicon to\n",
      "[nltk_data]     C:\\Users\\dobri\\AppData\\Roaming\\nltk_data...\n"
     ]
    },
    {
     "data": {
      "text/plain": [
       "True"
      ]
     },
     "execution_count": 81,
     "metadata": {},
     "output_type": "execute_result"
    }
   ],
   "source": [
    "nltk.download('vader_lexicon')"
   ]
  },
  {
   "cell_type": "code",
   "execution_count": 82,
   "id": "8d063ba2-1ab4-4dc7-9f63-74a442192e02",
   "metadata": {},
   "outputs": [],
   "source": [
    "analyzer = SentimentIntensityAnalyzer()"
   ]
  },
  {
   "cell_type": "code",
   "execution_count": 77,
   "id": "2d77d855-a0d8-4c3f-9608-434575c1a733",
   "metadata": {},
   "outputs": [
    {
     "data": {
      "text/plain": [
       "nltk.sentiment.vader.SentimentIntensityAnalyzer"
      ]
     },
     "execution_count": 77,
     "metadata": {},
     "output_type": "execute_result"
    }
   ],
   "source": [
    "analyzer"
   ]
  },
  {
   "cell_type": "code",
   "execution_count": 83,
   "id": "8977fac6-a695-47d1-9ba4-24b276b3c424",
   "metadata": {},
   "outputs": [
    {
     "data": {
      "text/plain": [
       "{'neg': 0.0, 'neu': 0.426, 'pos': 0.574, 'compound': 0.8442}"
      ]
     },
     "execution_count": 83,
     "metadata": {},
     "output_type": "execute_result"
    }
   ],
   "source": [
    "analyzer.polarity_scores(\"Look how beautiful the trees are. I love them.\")"
   ]
  },
  {
   "cell_type": "code",
   "execution_count": 84,
   "id": "9455c9b7-2792-4707-b0df-5d791e16babe",
   "metadata": {},
   "outputs": [
    {
     "data": {
      "text/plain": [
       "{'neg': 0.116, 'neu': 0.76, 'pos': 0.125, 'compound': 1.0}"
      ]
     },
     "execution_count": 84,
     "metadata": {},
     "output_type": "execute_result"
    }
   ],
   "source": [
    "analyzer.polarity_scores(book)"
   ]
  },
  {
   "cell_type": "markdown",
   "id": "196cda78-8a1d-44fd-9bf5-9a33a116e590",
   "metadata": {},
   "source": [
    "#### Chapters sentiment analysis"
   ]
  },
  {
   "cell_type": "code",
   "execution_count": 86,
   "id": "5acaa5a2-add4-428d-996f-25d20c048ef6",
   "metadata": {},
   "outputs": [],
   "source": [
    "pattern = re.compile(\"Chapter [0-9]+\")\n",
    "chapters = re.split(pattern, book)\n",
    "chapters = chapters[1:] # gets rid of an empty string at the beginning of the list"
   ]
  },
  {
   "cell_type": "code",
   "execution_count": 88,
   "id": "0bf0a82f-a080-4363-9304-dabedba26628",
   "metadata": {},
   "outputs": [
    {
     "name": "stdout",
     "output_type": "stream",
     "text": [
      "Chapter 1: {'neg': 0.061, 'neu': 0.779, 'pos': 0.16, 'compound': 1.0}\n",
      "Chapter 2: {'neg': 0.12, 'neu': 0.726, 'pos': 0.154, 'compound': 0.9991}\n",
      "Chapter 3: {'neg': 0.145, 'neu': 0.751, 'pos': 0.105, 'compound': -0.9999}\n",
      "Chapter 4: {'neg': 0.141, 'neu': 0.721, 'pos': 0.138, 'compound': -0.9963}\n",
      "Chapter 5: {'neg': 0.118, 'neu': 0.742, 'pos': 0.141, 'compound': 0.9997}\n",
      "Chapter 6: {'neg': 0.124, 'neu': 0.761, 'pos': 0.115, 'compound': -0.9979}\n",
      "Chapter 7: {'neg': 0.136, 'neu': 0.761, 'pos': 0.103, 'compound': -0.9999}\n",
      "Chapter 8: {'neg': 0.12, 'neu': 0.786, 'pos': 0.094, 'compound': -0.9998}\n",
      "Chapter 9: {'neg': 0.097, 'neu': 0.824, 'pos': 0.079, 'compound': -0.9996}\n",
      "Chapter 10: {'neg': 0.086, 'neu': 0.733, 'pos': 0.181, 'compound': 1.0}\n"
     ]
    }
   ],
   "source": [
    "for index,chapter in enumerate(chapters):\n",
    "    scores = analyzer.polarity_scores(chapter)\n",
    "    print(f\"Chapter {index + 1}: {scores}\")"
   ]
  },
  {
   "cell_type": "code",
   "execution_count": null,
   "id": "18a46141-0693-4db8-914b-89146b436493",
   "metadata": {},
   "outputs": [],
   "source": []
  }
 ],
 "metadata": {
  "kernelspec": {
   "display_name": "Python 3 (ipykernel)",
   "language": "python",
   "name": "python3"
  },
  "language_info": {
   "codemirror_mode": {
    "name": "ipython",
    "version": 3
   },
   "file_extension": ".py",
   "mimetype": "text/x-python",
   "name": "python",
   "nbconvert_exporter": "python",
   "pygments_lexer": "ipython3",
   "version": "3.11.5"
  }
 },
 "nbformat": 4,
 "nbformat_minor": 5
}
