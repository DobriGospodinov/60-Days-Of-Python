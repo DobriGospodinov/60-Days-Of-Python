{
 "cells": [
  {
   "cell_type": "markdown",
   "id": "96274403-0b9e-4e70-b6b5-a1dc7c1efea8",
   "metadata": {},
   "source": [
    "### Load the book"
   ]
  },
  {
   "cell_type": "code",
   "execution_count": 1,
   "id": "a6ba07a3-6386-4706-9b62-08c88c6bbf52",
   "metadata": {},
   "outputs": [],
   "source": [
    "with open(\"miracle_in_the_andes.txt\", \"r\", encoding=\"utf8\") as file:\n",
    "    book = file.read()"
   ]
  },
  {
   "cell_type": "markdown",
   "id": "c544b426-2fc1-4c1d-9536-9989d72d33f0",
   "metadata": {},
   "source": [
    "### How many chapters are there in the book?"
   ]
  },
  {
   "cell_type": "markdown",
   "id": "241887ed-5cdb-4ee9-a2fa-c25cc76acaae",
   "metadata": {},
   "source": [
    "##### With string method"
   ]
  },
  {
   "cell_type": "code",
   "execution_count": 2,
   "id": "2830dba4-e9a4-4b83-a006-68d4f27f1472",
   "metadata": {},
   "outputs": [
    {
     "data": {
      "text/plain": [
       "11"
      ]
     },
     "execution_count": 2,
     "metadata": {},
     "output_type": "execute_result"
    }
   ],
   "source": [
    "book.count(\"Chapter\") # not accurate, because it catches cases where the word in used in the text, too"
   ]
  },
  {
   "cell_type": "markdown",
   "id": "6fed2415-d227-456e-a2de-4995fe63411d",
   "metadata": {},
   "source": [
    "##### With regex"
   ]
  },
  {
   "cell_type": "code",
   "execution_count": 3,
   "id": "eceae474-2abb-42b0-a72f-707f06979f8b",
   "metadata": {},
   "outputs": [],
   "source": [
    "import re"
   ]
  },
  {
   "cell_type": "code",
   "execution_count": 4,
   "id": "ef033e8f-a5ec-49ac-8460-f24923182bca",
   "metadata": {},
   "outputs": [],
   "source": [
    "pattern = re.compile(\"Chapter [0-9]\")"
   ]
  },
  {
   "cell_type": "code",
   "execution_count": 5,
   "id": "eb84b205-38bc-4cf5-9c25-64eda7057915",
   "metadata": {},
   "outputs": [
    {
     "data": {
      "text/plain": [
       "['Chapter 1',\n",
       " 'Chapter 2',\n",
       " 'Chapter 3',\n",
       " 'Chapter 4',\n",
       " 'Chapter 5',\n",
       " 'Chapter 6',\n",
       " 'Chapter 7',\n",
       " 'Chapter 8',\n",
       " 'Chapter 9',\n",
       " 'Chapter 1']"
      ]
     },
     "execution_count": 5,
     "metadata": {},
     "output_type": "execute_result"
    }
   ],
   "source": [
    "re.findall(pattern, book)"
   ]
  },
  {
   "cell_type": "code",
   "execution_count": 6,
   "id": "8d899d4f-04b0-4d07-b471-4abeef205399",
   "metadata": {},
   "outputs": [],
   "source": [
    "pattern = re.compile(\"Chapter [0-9]+\")"
   ]
  },
  {
   "cell_type": "code",
   "execution_count": 7,
   "id": "44fea7ff-53cc-435f-b62c-7b94fc06d1c3",
   "metadata": {},
   "outputs": [],
   "source": [
    "findings = re.findall(pattern, book)"
   ]
  },
  {
   "cell_type": "code",
   "execution_count": 8,
   "id": "e86566b8-abf5-4d68-ae88-05e3aa8c6697",
   "metadata": {},
   "outputs": [
    {
     "data": {
      "text/plain": [
       "['Chapter 1',\n",
       " 'Chapter 2',\n",
       " 'Chapter 3',\n",
       " 'Chapter 4',\n",
       " 'Chapter 5',\n",
       " 'Chapter 6',\n",
       " 'Chapter 7',\n",
       " 'Chapter 8',\n",
       " 'Chapter 9',\n",
       " 'Chapter 10']"
      ]
     },
     "execution_count": 8,
     "metadata": {},
     "output_type": "execute_result"
    }
   ],
   "source": [
    "findings"
   ]
  },
  {
   "cell_type": "code",
   "execution_count": 9,
   "id": "8ca2eaef-b281-408a-8fe1-6686c1bfd812",
   "metadata": {},
   "outputs": [
    {
     "data": {
      "text/plain": [
       "10"
      ]
     },
     "execution_count": 9,
     "metadata": {},
     "output_type": "execute_result"
    }
   ],
   "source": [
    "len(findings)"
   ]
  },
  {
   "cell_type": "markdown",
   "id": "42c7680a-682d-4308-9a99-fee3b9cdee8c",
   "metadata": {
    "editable": true,
    "slideshow": {
     "slide_type": ""
    },
    "tags": []
   },
   "source": [
    "### Which are the sentences where \"love\" is used?"
   ]
  },
  {
   "cell_type": "code",
   "execution_count": 10,
   "id": "727ebbff-4de6-4d5f-b2e9-79a68ca911d5",
   "metadata": {},
   "outputs": [
    {
     "data": {
      "text/plain": [
       "67"
      ]
     },
     "execution_count": 10,
     "metadata": {},
     "output_type": "execute_result"
    }
   ],
   "source": [
    "# [^.] means everythong except the period sign.\n",
    "# [A-Z]{1} pattern should have exactly one capital letter\n",
    "# * is 0 or more times\n",
    "# + is 1 or more times\n",
    "# {1} is exactly one time\n",
    "pattern = re.compile(\"[A-Z]{1}[^.]*[^a-zA-Z]love[^a-zA-Z][^.]*.\") \n",
    "findings = re.findall(pattern, book)\n",
    "len(findings)"
   ]
  },
  {
   "cell_type": "markdown",
   "id": "5da16eb5-26bd-40ea-a6e7-71ef9688101e",
   "metadata": {},
   "source": [
    "### What are the most used words?"
   ]
  },
  {
   "cell_type": "code",
   "execution_count": 11,
   "id": "8985c691-8677-4e9a-a99b-6e0b7cb7c3c0",
   "metadata": {},
   "outputs": [
    {
     "data": {
      "text/plain": [
       "86798"
      ]
     },
     "execution_count": 11,
     "metadata": {},
     "output_type": "execute_result"
    }
   ],
   "source": [
    "pattern = re.compile(\"[a-zA-Z]+\")\n",
    "findings = re.findall(pattern, book.lower()) # using lower() to avoid counting capitalized strings as different words\n",
    "len(findings)"
   ]
  },
  {
   "cell_type": "code",
   "execution_count": 12,
   "id": "c31ed9d3-8d4a-458d-9efb-2d04d5e9183a",
   "metadata": {},
   "outputs": [],
   "source": [
    "# Below code creates a dict where keys are words, and values represent the count of how many times each word has appeared\n",
    "\n",
    "dictionary = {}\n",
    "for word in findings:\n",
    "    if word in dictionary.keys():\n",
    "        dictionary[word] = dictionary[word] + 1\n",
    "    else:\n",
    "        dictionary[word] = 1"
   ]
  },
  {
   "cell_type": "code",
   "execution_count": 13,
   "id": "2c17fa86-2286-486c-8ca6-8359b8555d91",
   "metadata": {},
   "outputs": [
    {
     "data": {
      "text/plain": [
       "[(5346, 'the'),\n",
       " (2795, 'and'),\n",
       " (2729, 'i'),\n",
       " (2400, 'to'),\n",
       " (2060, 'of'),\n",
       " (1566, 'a'),\n",
       " (1430, 'was'),\n",
       " (1419, 'in'),\n",
       " (1226, 'we'),\n",
       " (1169, 'my')]"
      ]
     },
     "execution_count": 13,
     "metadata": {},
     "output_type": "execute_result"
    }
   ],
   "source": [
    "# Create list with the values in the first position, followed by the keyword\n",
    "\n",
    "dictionary_list = [(value, key) for (key, value) in dictionary.items()]\n",
    "\n",
    "# We sort the list and put the most occurences on top\n",
    "\n",
    "sorted(dictionary_list, reverse=True)[:10] # [:10] shows only first 10 items from the list"
   ]
  },
  {
   "cell_type": "markdown",
   "id": "797664e1-8e4b-4de3-aebd-1de76cc8a7e0",
   "metadata": {},
   "source": [
    "### Extract paragraphs where love is used"
   ]
  },
  {
   "cell_type": "code",
   "execution_count": 28,
   "id": "230aa746-7e7f-4484-95ee-b82900788d1a",
   "metadata": {
    "editable": true,
    "slideshow": {
     "slide_type": ""
    },
    "tags": []
   },
   "outputs": [
    {
     "data": {
      "text/plain": [
       "40"
      ]
     },
     "execution_count": 28,
     "metadata": {},
     "output_type": "execute_result"
    }
   ],
   "source": [
    "# Regex pattern using lookbehind and lookahead:\n",
    "# (?<=\\n\\n)        - Positive lookbehind: Asserts that the match is preceded by two newline characters,\n",
    "#                    indicating the start of a new paragraph.\n",
    "# (.*?\\blove\\b.*?)  - Captures any text that contains the word \"love\" as a whole word, \n",
    "#                    allowing for any characters (including newlines) before and after \"love\".\n",
    "# (?=\\n\\n)         - Positive lookahead: Asserts that the match is followed by two newline characters,\n",
    "#                    indicating the end of a paragraph.\n",
    "pattern = re.compile(r\"(?<=\\n\\n)(.*?\\blove\\b.*?)(?=\\n\\n)\")\n",
    "findings = re.findall(pattern, book)\n",
    "len(findings)\n",
    "#findings"
   ]
  },
  {
   "cell_type": "markdown",
   "id": "5183988b-ebe1-4739-8d8c-25bcb1f57be7",
   "metadata": {},
   "source": [
    "### Extract chapter titles"
   ]
  },
  {
   "cell_type": "code",
   "execution_count": 35,
   "id": "585db351-cb2a-4314-b9e5-e0f093c60cee",
   "metadata": {},
   "outputs": [
    {
     "data": {
      "text/plain": [
       "['Before',\n",
       " 'Everything Precious',\n",
       " 'A Promise',\n",
       " 'Breathe Once More',\n",
       " 'Abandoned',\n",
       " 'Tomb',\n",
       " 'East',\n",
       " 'The Opposite of Death',\n",
       " 'I See a Man',\n",
       " 'After']"
      ]
     },
     "execution_count": 35,
     "metadata": {},
     "output_type": "execute_result"
    }
   ],
   "source": [
    "# The dot (.) matches any single character except newline characters.\n",
    "# The plus sign (+) is a quantifier in regex that indicates one or more occurrences of the preceding element.\n",
    "\n",
    "pattern = re.compile(r\"Chapter [0-9]+\\n\\n(.+)\")\n",
    "findings = re.findall(pattern, book)\n",
    "findings"
   ]
  },
  {
   "cell_type": "markdown",
   "id": "edce633a-b209-4966-af2b-ac571edc3a08",
   "metadata": {
    "editable": true,
    "slideshow": {
     "slide_type": ""
    },
    "tags": []
   },
   "source": [
    "### Function that finds the occurence of any word"
   ]
  },
  {
   "cell_type": "code",
   "execution_count": 49,
   "id": "65a1384b-e258-443a-bb93-87a7b76dc933",
   "metadata": {},
   "outputs": [],
   "source": [
    "def finder(word):\n",
    "    pattern = re.compile(r\"\\b\" + word + r\"\\b\")\n",
    "    findings = re.findall(pattern, book.lower())\n",
    "    if findings:\n",
    "        print (len(findings))\n",
    "    else:\n",
    "        print(f'The book doesn\\'t contain the word \"{word}\"')\n",
    "\n",
    "# looks like we can use an fstring + rstring combo as well:\n",
    "# pattern = re.compile(fr'\\b{word}\\b')"
   ]
  },
  {
   "cell_type": "markdown",
   "id": "1efefee3-60f1-4ec3-bcc5-b914e1d407ac",
   "metadata": {},
   "source": [
    "### Call the function"
   ]
  },
  {
   "cell_type": "code",
   "execution_count": 47,
   "id": "e85e8dac-0f6d-481e-a944-7b74f0c3eb6e",
   "metadata": {},
   "outputs": [
    {
     "name": "stdout",
     "output_type": "stream",
     "text": [
      "83\n"
     ]
    }
   ],
   "source": [
    "finder(\"love\")"
   ]
  },
  {
   "cell_type": "code",
   "execution_count": 48,
   "id": "e2ffc1f3-58ca-482d-b598-70f5634cb18a",
   "metadata": {},
   "outputs": [
    {
     "name": "stdout",
     "output_type": "stream",
     "text": [
      "The book doesn't contain the word \"hate\"\n"
     ]
    }
   ],
   "source": [
    "finder(\"hate\")"
   ]
  },
  {
   "cell_type": "code",
   "execution_count": null,
   "id": "d5854c8b-7ae5-4900-99d7-9accc176a200",
   "metadata": {},
   "outputs": [],
   "source": []
  }
 ],
 "metadata": {
  "kernelspec": {
   "display_name": "Python 3 (ipykernel)",
   "language": "python",
   "name": "python3"
  },
  "language_info": {
   "codemirror_mode": {
    "name": "ipython",
    "version": 3
   },
   "file_extension": ".py",
   "mimetype": "text/x-python",
   "name": "python",
   "nbconvert_exporter": "python",
   "pygments_lexer": "ipython3",
   "version": "3.11.5"
  }
 },
 "nbformat": 4,
 "nbformat_minor": 5
}
